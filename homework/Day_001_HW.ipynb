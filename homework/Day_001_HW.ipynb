{
 "cells": [
  {
   "cell_type": "code",
   "execution_count": 20,
   "metadata": {},
   "outputs": [
    {
     "data": {
      "text/plain": [
       "'\\n作業1\\n\\n來源:https://www.kaggle.com/russellyates88/suicide-rates-overview-1985-to-2016\\n主題:社會經濟與自殺率比較\\n\\n回答:\\n1.Q:你選的這組資料為何重要?\\n  A:可以了解社會經濟地位是否與自殺率之相關性，或是地域(海陸國家、東方西方國家)的不同是否與自殺率高低有關，\\n    以協助執政者擬定政策。\\n2.Q:資料從何而來?\\n  A:可以從各國家組織(聯合國、世界衛生組織...等)之官網下載。\\n3.Q:蒐集而來的資料型態為何?\\n  A:包含字串(國家名)、整數(人口數)與浮點數(平均自殺人數)...等。\\n4.Q:這組資料想解決的問題如何評估?\\n  A:可用簡回歸或多元回歸檢驗，判斷資料間的相關性是否顯著。\\n'"
      ]
     },
     "execution_count": 20,
     "metadata": {},
     "output_type": "execute_result"
    }
   ],
   "source": [
    "\"\"\"\n",
    "作業1\n",
    "\n",
    "來源:https://www.kaggle.com/russellyates88/suicide-rates-overview-1985-to-2016\n",
    "主題:社會經濟與自殺率比較\n",
    "\n",
    "回答:\n",
    "1.Q:你選的這組資料為何重要?\n",
    "  A:可以了解社會經濟地位是否與自殺率之相關性，或是地域(海陸國家、東方西方國家)的不同是否與自殺率高低有關，\n",
    "    以協助執政者擬定政策。\n",
    "2.Q:資料從何而來?\n",
    "  A:可以從各國家組織(聯合國、世界衛生組織...等)之官網下載。\n",
    "3.Q:蒐集而來的資料型態為何?\n",
    "  A:包含字串(國家名)、整數(人口數)與浮點數(平均自殺人數)...等。\n",
    "4.Q:這組資料想解決的問題如何評估?\n",
    "  A:可用簡回歸或多元回歸檢驗，判斷資料間的相關性是否顯著。\n",
    "\"\"\""
   ]
  },
  {
   "cell_type": "code",
   "execution_count": null,
   "metadata": {},
   "outputs": [],
   "source": [
    "\"\"\"\n",
    "作業2\n",
    "\n",
    "想像你經營一個自由載客車隊，你希望能透過數據分析以提升業績，請你思考並描述你如何規劃整體的分析/解決方案：\n",
    "\n",
    "回答:\n",
    "1.Q:核心問題為何 (tips：如何定義 「提升業績 & 你的假設」)?\n",
    "  A:如何提升單位時間的里程數、如何減少接收到載客訊息後到實際接到客人的時間、如何讓客人選擇自家車隊搭乘。\n",
    "      基本假設:司機皆為理性，不互相搶客人。\n",
    "2.Q:資料從何而來 (tips：哪些資料可能會對你想問的問題產生影響 & 資料如何蒐集)?\n",
    "  A:建構系統利用GPS回傳乘車長度及乘車時間。\n",
    "3.Q:蒐集而來的資料型態為何?\n",
    "  A:包含字串(年齡、性別)、整數(乘車時間)與浮點數(乘車長度)...等。\n",
    "4.Q:你要回答的問題，其如何評估 (tips：你的假設如何驗證)\n",
    "  A:1.增加行銷費用，觀測行銷後是否單位時間載客量或乘車長度明顯提升。\n",
    "    2.比較年齡、性別是否對於單位時間的乘車長度有無明顯區別(簡回歸、複回歸)。\n",
    "    3.減少接收到載客訊息後到實際接到客人的時間，例如:優先找最近的司機。\n",
    "\"\"\""
   ]
  },
  {
   "cell_type": "markdown",
   "metadata": {},
   "source": [
    "## 練習時間\n",
    "#### 請寫一個函式用來計算 Mean Square Error\n",
    "$ MSE = \\frac{1}{n}\\sum_{i=1}^{n}{(Y_i - \\hat{Y}_i)^2} $\n",
    "\n",
    "### Hint: [如何取平方](https://googoodesign.gitbooks.io/-ezpython/unit-1.html)"
   ]
  },
  {
   "cell_type": "code",
   "execution_count": 21,
   "metadata": {},
   "outputs": [],
   "source": [
    "import numpy as np\n",
    "import matplotlib.pyplot as plt"
   ]
  },
  {
   "cell_type": "code",
   "execution_count": 22,
   "metadata": {},
   "outputs": [],
   "source": [
    "def mean_squared_error(y,yp):\n",
    "    \"\"\"\n",
    "    計算 MSE\n",
    "    Args:\n",
    "        - y: 實際值\n",
    "        - yp: 預測值\n",
    "    Return:\n",
    "        - mse: MSE\n",
    "    \"\"\"\n",
    "    mse = MSE = sum((y - yp)**2) / len(y)\n",
    "    return mse\n",
    "    \n",
    "    \"\"\"\n",
    "    請完成這個 Function 後往下執行\n",
    "    \"\"\"\n",
    "\n",
    "def mean_absolute_error(y, yp):\n",
    "    \"\"\"\n",
    "    計算 MAE\n",
    "    Args:\n",
    "        - y: 實際值\n",
    "        - yp: 預測值\n",
    "    Return:\n",
    "        - mae: MAE\n",
    "    \"\"\"\n",
    "    mae = MAE = sum(abs(y - yp)) / len(y)\n",
    "    return mae"
   ]
  },
  {
   "cell_type": "code",
   "execution_count": 23,
   "metadata": {},
   "outputs": [
    {
     "data": {
      "image/png": "[encoded data removed]",
      "text/plain": [
       "<matplotlib.figure.Figure at 0x24a4bedb048>"
      ]
     },
     "metadata": {},
     "output_type": "display_data"
    }
   ],
   "source": [
    "w = 3\n",
    "b = 0.5\n",
    "\n",
    "x_lin = np.linspace(0, 100, 101)\n",
    "\n",
    "y = (x_lin + np.random.randn(101) * 5) * w + b\n",
    "\n",
    "plt.plot(x_lin, y, 'b.', label = 'data points')\n",
    "plt.title(\"Assume we have data points\")\n",
    "plt.legend(loc = 2)\n",
    "plt.show()"
   ]
  },
  {
   "cell_type": "code",
   "execution_count": 24,
   "metadata": {},
   "outputs": [
    {
     "data": {
      "image/png": "[encoded data removed]",
      "text/plain": [
       "<matplotlib.figure.Figure at 0x24a4bfb9908>"
      ]
     },
     "metadata": {},
     "output_type": "display_data"
    }
   ],
   "source": [
    "y_hat = x_lin * w + b\n",
    "plt.plot(x_lin, y, 'b.', label = 'data')\n",
    "plt.plot(x_lin, y_hat, 'r-', label = 'prediction')\n",
    "plt.title(\"Assume we have data points (And the prediction)\")\n",
    "plt.legend(loc = 2)\n",
    "plt.show()"
   ]
  },
  {
   "cell_type": "code",
   "execution_count": 25,
   "metadata": {},
   "outputs": [
    {
     "name": "stdout",
     "output_type": "stream",
     "text": [
      "The Mean squared error is 222.655\n",
      "The Mean absolute error is 11.693\n"
     ]
    }
   ],
   "source": [
    "# 執行 Function, 確認有沒有正常執行\n",
    "MSE = mean_squared_error(y, y_hat)\n",
    "MAE = mean_absolute_error(y, y_hat)\n",
    "print(\"The Mean squared error is %.3f\" % (MSE))\n",
    "print(\"The Mean absolute error is %.3f\" % (MAE))"
   ]
  },
  {
   "cell_type": "code",
   "execution_count": null,
   "metadata": {},
   "outputs": [],
   "source": []
  }
 ],
 "metadata": {
  "anaconda-cloud": {},
  "kernelspec": {
   "display_name": "Python 3",
   "language": "python",
   "name": "python3"
  },
  "language_info": {
   "codemirror_mode": {
    "name": "ipython",
    "version": 3
   },
   "file_extension": ".py",
   "mimetype": "text/x-python",
   "name": "python",
   "nbconvert_exporter": "python",
   "pygments_lexer": "ipython3",
   "version": "3.6.4"
  }
 },
 "nbformat": 4,
 "nbformat_minor": 1
}
